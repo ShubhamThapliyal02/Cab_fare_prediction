{
 "cells": [
  {
   "cell_type": "code",
   "execution_count": 229,
   "id": "1491ce86",
   "metadata": {},
   "outputs": [],
   "source": [
    "import os\n",
    "import pandas as pd\n",
    "import numpy as np\n",
    "import matplotlib.pyplot as plt\n",
    "from scipy.stats import chi2_contingency\n",
    "import seaborn as sns\n",
    "from random import randrange, uniform"
   ]
  },
  {
   "cell_type": "code",
   "execution_count": 230,
   "id": "8ea8c84d",
   "metadata": {},
   "outputs": [],
   "source": [
    "data = pd.read_csv('train_cab.csv')"
   ]
  },
  {
   "cell_type": "code",
   "execution_count": 231,
   "id": "8b7b8aa6",
   "metadata": {},
   "outputs": [],
   "source": [
    "#type conversion\n",
    "data['pickup_datetime'] = pd.to_datetime(data['pickup_datetime'],format = '%Y-%m-%d %H:%M:%S UTC',errors = 'coerce')"
   ]
  },
  {
   "cell_type": "code",
   "execution_count": 232,
   "id": "deb9f4db",
   "metadata": {},
   "outputs": [],
   "source": [
    "data['year'] = data['pickup_datetime'].dt.year\n",
    "data['month'] = data['pickup_datetime'].dt.month\n",
    "data['date'] = data['pickup_datetime'].dt.day\n",
    "data['dayofweek'] = data['pickup_datetime'].dt.dayofweek\n",
    "data['hour'] = data['pickup_datetime'].dt.hour\n",
    "data['minute'] = data['pickup_datetime'].dt.minute"
   ]
  },
  {
   "cell_type": "code",
   "execution_count": 233,
   "id": "e9a36a36",
   "metadata": {},
   "outputs": [],
   "source": [
    "float_variable = ['passenger_count', 'year','month','date','dayofweek','hour','minute']"
   ]
  },
  {
   "cell_type": "code",
   "execution_count": 234,
   "id": "914dacf4",
   "metadata": {},
   "outputs": [],
   "source": [
    "missing_val = pd.DataFrame(data.isnull().sum())"
   ]
  },
  {
   "cell_type": "code",
   "execution_count": 235,
   "id": "dcbbcb3c",
   "metadata": {},
   "outputs": [],
   "source": [
    "missing_val= missing_val.reset_index()"
   ]
  },
  {
   "cell_type": "code",
   "execution_count": 236,
   "id": "61763221",
   "metadata": {},
   "outputs": [],
   "source": [
    "missing_val = missing_val.rename(columns= {'index':'features',0:'missing_percentage'})"
   ]
  },
  {
   "cell_type": "code",
   "execution_count": 237,
   "id": "64203d41",
   "metadata": {},
   "outputs": [],
   "source": [
    "missing_val['missing_percentage'] = (missing_val['missing_percentage']/len(data))*100"
   ]
  },
  {
   "cell_type": "code",
   "execution_count": 238,
   "id": "891f0481",
   "metadata": {},
   "outputs": [],
   "source": [
    "missing_val = missing_val.sort_values('missing_percentage', ascending = False).reset_index(drop = True)"
   ]
  },
  {
   "cell_type": "code",
   "execution_count": 239,
   "id": "13e8b317",
   "metadata": {},
   "outputs": [],
   "source": [
    "missing_val.to_csv('missing_pecentage.csv', index = False)"
   ]
  },
  {
   "cell_type": "code",
   "execution_count": 240,
   "id": "f06812bf",
   "metadata": {},
   "outputs": [],
   "source": [
    "data['fare_amount'] = pd.to_numeric(data['fare_amount'], errors = 'coerce')"
   ]
  },
  {
   "cell_type": "code",
   "execution_count": 241,
   "id": "51436ed7",
   "metadata": {},
   "outputs": [],
   "source": [
    "data2 = data"
   ]
  },
  {
   "cell_type": "code",
   "execution_count": 242,
   "id": "a908308e",
   "metadata": {},
   "outputs": [],
   "source": [
    "data = data.dropna()"
   ]
  },
  {
   "cell_type": "markdown",
   "id": "38ec8eda",
   "metadata": {},
   "source": [
    "# Outlier Analysis"
   ]
  },
  {
   "cell_type": "code",
   "execution_count": 243,
   "id": "1f2d8d08",
   "metadata": {},
   "outputs": [],
   "source": [
    "%matplotlib inline"
   ]
  },
  {
   "cell_type": "code",
   "execution_count": 244,
   "id": "d0c250cc",
   "metadata": {},
   "outputs": [
    {
     "data": {
      "image/png": "[encoded data removed]",
      "text/plain": [
       "<Figure size 432x288 with 1 Axes>"
      ]
     },
     "metadata": {
      "needs_background": "light"
     },
     "output_type": "display_data"
    }
   ],
   "source": [
    "plt.boxplot(data['fare_amount'])\n",
    "plt.show()"
   ]
  },
  {
   "cell_type": "code",
   "execution_count": 245,
   "id": "1a775bf7",
   "metadata": {},
   "outputs": [],
   "source": [
    "cnames = ['pickup_latitude', 'pickup_longitude', 'dropoff_latitude', 'dropoff_longitude']"
   ]
  },
  {
   "cell_type": "code",
   "execution_count": 246,
   "id": "4a044bc0",
   "metadata": {},
   "outputs": [],
   "source": [
    "for i in cnames:\n",
    "    q75, q25 = np.percentile(data.loc[:,i], [75,25])\n",
    "    iqr = q75-q25\n",
    "    min = q25 - (iqr*1.5)\n",
    "    max = q75 + (iqr*1.5)\n",
    "    data = data.drop(data[data.loc[:,i]<min].index)\n",
    "    data = data.drop(data[data.loc[:,i]>max].index)"
   ]
  },
  {
   "cell_type": "code",
   "execution_count": 247,
   "id": "7903b7a1",
   "metadata": {},
   "outputs": [
    {
     "data": {
      "image/png": "[encoded data removed]",
      "text/plain": [
       "<Figure size 432x288 with 1 Axes>"
      ]
     },
     "metadata": {
      "needs_background": "light"
     },
     "output_type": "display_data"
    }
   ],
   "source": [
    "plt.boxplot(data['fare_amount'])\n",
    "plt.show()"
   ]
  },
  {
   "cell_type": "code",
   "execution_count": 248,
   "id": "b4b54bf2",
   "metadata": {},
   "outputs": [
    {
     "data": {
      "text/plain": [
       "13597"
      ]
     },
     "execution_count": 248,
     "metadata": {},
     "output_type": "execute_result"
    }
   ],
   "source": [
    "len(data)"
   ]
  },
  {
   "cell_type": "code",
   "execution_count": 249,
   "id": "cb1c07fd",
   "metadata": {},
   "outputs": [
    {
     "data": {
      "image/png": "[encoded data removed]",
      "text/plain": [
       "<Figure size 432x288 with 1 Axes>"
      ]
     },
     "metadata": {
      "needs_background": "light"
     },
     "output_type": "display_data"
    },
    {
     "name": "stdout",
     "output_type": "stream",
     "text": [
      "-2.1000000000000005\n",
      "18.700000000000003\n",
      "543\n"
     ]
    }
   ],
   "source": [
    "###outliers\n",
    "\n",
    "# #Plot boxplot to visualize Outliers\n",
    "# %matplotlib inline  \n",
    "plt.boxplot(data['fare_amount'])\n",
    "plt.show()\n",
    "\n",
    "# #Detect and delete outliers from data\n",
    "q75, q25 = np.percentile(data.loc[:,'fare_amount'], [75 ,25])\n",
    "iqr = q75 - q25\n",
    "\n",
    "min = q25 - (iqr*1.5)\n",
    "max = q75 + (iqr*1.5)\n",
    "print(min)\n",
    "print(max)\n",
    "    \n",
    "sum=(data.loc[:,'fare_amount'] <= 0).sum() + (data.loc[:,'fare_amount'] > max).sum()\n",
    "print(sum)\n",
    "\n",
    "\n",
    "# Fare amount can't be 0 or less than 0 hence the minimum value\n",
    "data = data.drop(data[data.loc[:,'fare_amount'] <= 0].index)\n",
    "data = data.drop(data[data.loc[:,'fare_amount'] > max].index)"
   ]
  },
  {
   "cell_type": "code",
   "execution_count": 250,
   "id": "34b151a4",
   "metadata": {},
   "outputs": [
    {
     "data": {
      "text/plain": [
       "13054"
      ]
     },
     "execution_count": 250,
     "metadata": {},
     "output_type": "execute_result"
    }
   ],
   "source": [
    "len(data)"
   ]
  },
  {
   "cell_type": "code",
   "execution_count": 251,
   "id": "0dee2bed",
   "metadata": {},
   "outputs": [
    {
     "data": {
      "image/png": "[encoded data removed]",
      "text/plain": [
       "<Figure size 432x288 with 1 Axes>"
      ]
     },
     "metadata": {
      "needs_background": "light"
     },
     "output_type": "display_data"
    }
   ],
   "source": [
    "# #Plot boxplot to visualize Outliers\n",
    "# %matplotlib inline  \n",
    "plt.boxplot(data['passenger_count'])\n",
    "plt.show()\n",
    "\n",
    "\n",
    "data['passenger_count'].value_counts()\n",
    "\n",
    "#From the test set and boxplot, it is implied that the range of passenger count is within 1-6\n",
    "data = data.drop(data[data.loc[:,'passenger_count'] < 1].index)\n",
    "data = data.drop(data[data.loc[:,'passenger_count'] > 6].index)"
   ]
  },
  {
   "cell_type": "code",
   "execution_count": 252,
   "id": "c3183aec",
   "metadata": {},
   "outputs": [
    {
     "data": {
      "text/plain": [
       "12988"
      ]
     },
     "execution_count": 252,
     "metadata": {},
     "output_type": "execute_result"
    }
   ],
   "source": [
    "len(data)"
   ]
  },
  {
   "cell_type": "markdown",
   "id": "e2876a3c",
   "metadata": {},
   "source": [
    "# Feature Extraction"
   ]
  },
  {
   "cell_type": "code",
   "execution_count": 253,
   "id": "ef52e4d5",
   "metadata": {},
   "outputs": [
    {
     "name": "stdout",
     "output_type": "stream",
     "text": [
      "Requirement already satisfied: haversine in c:\\users\\hp\\appdata\\local\\programs\\python\\python310\\lib\\site-packages (2.7.0)\n"
     ]
    },
    {
     "name": "stderr",
     "output_type": "stream",
     "text": [
      "WARNING: You are using pip version 21.2.4; however, version 22.2.2 is available.\n",
      "You should consider upgrading via the 'C:\\Users\\HP\\AppData\\Local\\Programs\\Python\\Python310\\python.exe -m pip install --upgrade pip' command.\n"
     ]
    }
   ],
   "source": [
    "!pip install haversine\n",
    "from haversine import haversine"
   ]
  },
  {
   "cell_type": "code",
   "execution_count": 254,
   "id": "4f8a585c",
   "metadata": {},
   "outputs": [
    {
     "name": "stderr",
     "output_type": "stream",
     "text": [
      "C:\\Users\\HP\\AppData\\Local\\Temp\\ipykernel_2516\\884195347.py:6: SettingWithCopyWarning: \n",
      "A value is trying to be set on a copy of a slice from a DataFrame\n",
      "\n",
      "See the caveats in the documentation: https://pandas.pydata.org/pandas-docs/stable/user_guide/indexing.html#returning-a-view-versus-a-copy\n",
      "  data['distance'].iloc[i]=haversine((data['pickup_latitude'].iloc[i],data['pickup_longitude'].iloc[i]),(data['dropoff_latitude'].iloc[i],data['dropoff_longitude'].iloc[i]))\n"
     ]
    },
    {
     "name": "stdout",
     "output_type": "stream",
     "text": [
      "column inserted\n"
     ]
    }
   ],
   "source": [
    "###Feature Extraction\n",
    "#Feature Extraction from existing available variables\n",
    "data['distance']=0\n",
    "\n",
    "for i in range(0,len(data)):\n",
    "    data['distance'].iloc[i]=haversine((data['pickup_latitude'].iloc[i],data['pickup_longitude'].iloc[i]),(data['dropoff_latitude'].iloc[i],data['dropoff_longitude'].iloc[i])) \n",
    "        \n",
    "print(\"column inserted\")\n",
    "###Distance in KM"
   ]
  },
  {
   "cell_type": "code",
   "execution_count": 255,
   "id": "3de7619c",
   "metadata": {},
   "outputs": [
    {
     "data": {
      "text/html": [
       "<div>\n",
       "<style scoped>\n",
       "    .dataframe tbody tr th:only-of-type {\n",
       "        vertical-align: middle;\n",
       "    }\n",
       "\n",
       "    .dataframe tbody tr th {\n",
       "        vertical-align: top;\n",
       "    }\n",
       "\n",
       "    .dataframe thead th {\n",
       "        text-align: right;\n",
       "    }\n",
       "</style>\n",
       "<table border=\"1\" class=\"dataframe\">\n",
       "  <thead>\n",
       "    <tr style=\"text-align: right;\">\n",
       "      <th></th>\n",
       "      <th>fare_amount</th>\n",
       "      <th>pickup_longitude</th>\n",
       "      <th>pickup_latitude</th>\n",
       "      <th>dropoff_longitude</th>\n",
       "      <th>dropoff_latitude</th>\n",
       "      <th>passenger_count</th>\n",
       "      <th>year</th>\n",
       "      <th>month</th>\n",
       "      <th>date</th>\n",
       "      <th>dayofweek</th>\n",
       "      <th>hour</th>\n",
       "      <th>minute</th>\n",
       "      <th>distance</th>\n",
       "    </tr>\n",
       "  </thead>\n",
       "  <tbody>\n",
       "    <tr>\n",
       "      <th>count</th>\n",
       "      <td>12988.000000</td>\n",
       "      <td>12988.000000</td>\n",
       "      <td>12988.000000</td>\n",
       "      <td>12988.000000</td>\n",
       "      <td>12988.000000</td>\n",
       "      <td>12988.000000</td>\n",
       "      <td>12988.000000</td>\n",
       "      <td>12988.000000</td>\n",
       "      <td>12988.000000</td>\n",
       "      <td>12988.000000</td>\n",
       "      <td>12988.000000</td>\n",
       "      <td>12988.000000</td>\n",
       "      <td>12988.000000</td>\n",
       "    </tr>\n",
       "    <tr>\n",
       "      <th>mean</th>\n",
       "      <td>8.339666</td>\n",
       "      <td>-73.981776</td>\n",
       "      <td>40.752936</td>\n",
       "      <td>-73.980939</td>\n",
       "      <td>40.753415</td>\n",
       "      <td>1.647213</td>\n",
       "      <td>2011.684016</td>\n",
       "      <td>6.215892</td>\n",
       "      <td>15.672621</td>\n",
       "      <td>3.011010</td>\n",
       "      <td>13.675239</td>\n",
       "      <td>29.744456</td>\n",
       "      <td>2.252841</td>\n",
       "    </tr>\n",
       "    <tr>\n",
       "      <th>std</th>\n",
       "      <td>3.453875</td>\n",
       "      <td>0.015966</td>\n",
       "      <td>0.021425</td>\n",
       "      <td>0.016459</td>\n",
       "      <td>0.022141</td>\n",
       "      <td>1.265408</td>\n",
       "      <td>1.860980</td>\n",
       "      <td>3.455540</td>\n",
       "      <td>8.689594</td>\n",
       "      <td>1.958596</td>\n",
       "      <td>6.347404</td>\n",
       "      <td>17.288223</td>\n",
       "      <td>1.488920</td>\n",
       "    </tr>\n",
       "    <tr>\n",
       "      <th>min</th>\n",
       "      <td>0.010000</td>\n",
       "      <td>-74.018108</td>\n",
       "      <td>40.686538</td>\n",
       "      <td>-74.019535</td>\n",
       "      <td>40.690125</td>\n",
       "      <td>1.000000</td>\n",
       "      <td>2009.000000</td>\n",
       "      <td>1.000000</td>\n",
       "      <td>1.000000</td>\n",
       "      <td>0.000000</td>\n",
       "      <td>0.000000</td>\n",
       "      <td>0.000000</td>\n",
       "      <td>0.000000</td>\n",
       "    </tr>\n",
       "    <tr>\n",
       "      <th>25%</th>\n",
       "      <td>5.700000</td>\n",
       "      <td>-73.992761</td>\n",
       "      <td>40.738551</td>\n",
       "      <td>-73.991979</td>\n",
       "      <td>40.739038</td>\n",
       "      <td>1.000000</td>\n",
       "      <td>2010.000000</td>\n",
       "      <td>3.000000</td>\n",
       "      <td>8.000000</td>\n",
       "      <td>1.000000</td>\n",
       "      <td>9.000000</td>\n",
       "      <td>15.000000</td>\n",
       "      <td>1.165012</td>\n",
       "    </tr>\n",
       "    <tr>\n",
       "      <th>50%</th>\n",
       "      <td>7.700000</td>\n",
       "      <td>-73.982643</td>\n",
       "      <td>40.753553</td>\n",
       "      <td>-73.982044</td>\n",
       "      <td>40.754606</td>\n",
       "      <td>1.000000</td>\n",
       "      <td>2012.000000</td>\n",
       "      <td>6.000000</td>\n",
       "      <td>16.000000</td>\n",
       "      <td>3.000000</td>\n",
       "      <td>14.000000</td>\n",
       "      <td>30.000000</td>\n",
       "      <td>1.877787</td>\n",
       "    </tr>\n",
       "    <tr>\n",
       "      <th>75%</th>\n",
       "      <td>10.500000</td>\n",
       "      <td>-73.971351</td>\n",
       "      <td>40.766866</td>\n",
       "      <td>-73.970702</td>\n",
       "      <td>40.767401</td>\n",
       "      <td>2.000000</td>\n",
       "      <td>2013.000000</td>\n",
       "      <td>9.000000</td>\n",
       "      <td>23.000000</td>\n",
       "      <td>5.000000</td>\n",
       "      <td>19.000000</td>\n",
       "      <td>45.000000</td>\n",
       "      <td>2.978875</td>\n",
       "    </tr>\n",
       "    <tr>\n",
       "      <th>max</th>\n",
       "      <td>18.500000</td>\n",
       "      <td>-73.935007</td>\n",
       "      <td>40.815825</td>\n",
       "      <td>-73.933333</td>\n",
       "      <td>40.815357</td>\n",
       "      <td>6.000000</td>\n",
       "      <td>2015.000000</td>\n",
       "      <td>12.000000</td>\n",
       "      <td>31.000000</td>\n",
       "      <td>6.000000</td>\n",
       "      <td>23.000000</td>\n",
       "      <td>59.000000</td>\n",
       "      <td>10.631679</td>\n",
       "    </tr>\n",
       "  </tbody>\n",
       "</table>\n",
       "</div>"
      ],
      "text/plain": [
       "        fare_amount  pickup_longitude  pickup_latitude  dropoff_longitude  \\\n",
       "count  12988.000000      12988.000000     12988.000000       12988.000000   \n",
       "mean       8.339666        -73.981776        40.752936         -73.980939   \n",
       "std        3.453875          0.015966         0.021425           0.016459   \n",
       "min        0.010000        -74.018108        40.686538         -74.019535   \n",
       "25%        5.700000        -73.992761        40.738551         -73.991979   \n",
       "50%        7.700000        -73.982643        40.753553         -73.982044   \n",
       "75%       10.500000        -73.971351        40.766866         -73.970702   \n",
       "max       18.500000        -73.935007        40.815825         -73.933333   \n",
       "\n",
       "       dropoff_latitude  passenger_count          year         month  \\\n",
       "count      12988.000000     12988.000000  12988.000000  12988.000000   \n",
       "mean          40.753415         1.647213   2011.684016      6.215892   \n",
       "std            0.022141         1.265408      1.860980      3.455540   \n",
       "min           40.690125         1.000000   2009.000000      1.000000   \n",
       "25%           40.739038         1.000000   2010.000000      3.000000   \n",
       "50%           40.754606         1.000000   2012.000000      6.000000   \n",
       "75%           40.767401         2.000000   2013.000000      9.000000   \n",
       "max           40.815357         6.000000   2015.000000     12.000000   \n",
       "\n",
       "               date     dayofweek          hour        minute      distance  \n",
       "count  12988.000000  12988.000000  12988.000000  12988.000000  12988.000000  \n",
       "mean      15.672621      3.011010     13.675239     29.744456      2.252841  \n",
       "std        8.689594      1.958596      6.347404     17.288223      1.488920  \n",
       "min        1.000000      0.000000      0.000000      0.000000      0.000000  \n",
       "25%        8.000000      1.000000      9.000000     15.000000      1.165012  \n",
       "50%       16.000000      3.000000     14.000000     30.000000      1.877787  \n",
       "75%       23.000000      5.000000     19.000000     45.000000      2.978875  \n",
       "max       31.000000      6.000000     23.000000     59.000000     10.631679  "
      ]
     },
     "execution_count": 255,
     "metadata": {},
     "output_type": "execute_result"
    }
   ],
   "source": [
    "data.describe()"
   ]
  },
  {
   "cell_type": "code",
   "execution_count": 256,
   "id": "514d9301",
   "metadata": {},
   "outputs": [],
   "source": [
    "#distance can't be 0, so removing those datas\n",
    "data = data[(data['pickup_latitude'] != data['dropoff_latitude']) & (data['pickup_longitude'] != data['dropoff_longitude'])]"
   ]
  },
  {
   "cell_type": "code",
   "execution_count": 257,
   "id": "4a592874",
   "metadata": {},
   "outputs": [
    {
     "data": {
      "text/plain": [
       "12874"
      ]
     },
     "execution_count": 257,
     "metadata": {},
     "output_type": "execute_result"
    }
   ],
   "source": [
    "len(data)"
   ]
  },
  {
   "cell_type": "code",
   "execution_count": 258,
   "id": "16ea46ac",
   "metadata": {},
   "outputs": [
    {
     "data": {
      "text/html": [
       "<div>\n",
       "<style scoped>\n",
       "    .dataframe tbody tr th:only-of-type {\n",
       "        vertical-align: middle;\n",
       "    }\n",
       "\n",
       "    .dataframe tbody tr th {\n",
       "        vertical-align: top;\n",
       "    }\n",
       "\n",
       "    .dataframe thead th {\n",
       "        text-align: right;\n",
       "    }\n",
       "</style>\n",
       "<table border=\"1\" class=\"dataframe\">\n",
       "  <thead>\n",
       "    <tr style=\"text-align: right;\">\n",
       "      <th></th>\n",
       "      <th>fare_amount</th>\n",
       "      <th>pickup_longitude</th>\n",
       "      <th>pickup_latitude</th>\n",
       "      <th>dropoff_longitude</th>\n",
       "      <th>dropoff_latitude</th>\n",
       "      <th>passenger_count</th>\n",
       "      <th>year</th>\n",
       "      <th>month</th>\n",
       "      <th>date</th>\n",
       "      <th>dayofweek</th>\n",
       "      <th>hour</th>\n",
       "      <th>minute</th>\n",
       "      <th>distance</th>\n",
       "    </tr>\n",
       "  </thead>\n",
       "  <tbody>\n",
       "    <tr>\n",
       "      <th>count</th>\n",
       "      <td>12874.000000</td>\n",
       "      <td>12874.000000</td>\n",
       "      <td>12874.000000</td>\n",
       "      <td>12874.000000</td>\n",
       "      <td>12874.000000</td>\n",
       "      <td>12874.000000</td>\n",
       "      <td>12874.000000</td>\n",
       "      <td>12874.000000</td>\n",
       "      <td>12874.000000</td>\n",
       "      <td>12874.000000</td>\n",
       "      <td>12874.000000</td>\n",
       "      <td>12874.000000</td>\n",
       "      <td>12874.000000</td>\n",
       "    </tr>\n",
       "    <tr>\n",
       "      <th>mean</th>\n",
       "      <td>8.353517</td>\n",
       "      <td>-73.981790</td>\n",
       "      <td>40.752959</td>\n",
       "      <td>-73.980946</td>\n",
       "      <td>40.753442</td>\n",
       "      <td>1.648672</td>\n",
       "      <td>2011.685568</td>\n",
       "      <td>6.220755</td>\n",
       "      <td>15.671819</td>\n",
       "      <td>3.013904</td>\n",
       "      <td>13.679897</td>\n",
       "      <td>29.753379</td>\n",
       "      <td>2.272620</td>\n",
       "    </tr>\n",
       "    <tr>\n",
       "      <th>std</th>\n",
       "      <td>3.452793</td>\n",
       "      <td>0.015946</td>\n",
       "      <td>0.021415</td>\n",
       "      <td>0.016446</td>\n",
       "      <td>0.022136</td>\n",
       "      <td>1.266726</td>\n",
       "      <td>1.863041</td>\n",
       "      <td>3.456903</td>\n",
       "      <td>8.693171</td>\n",
       "      <td>1.958525</td>\n",
       "      <td>6.345621</td>\n",
       "      <td>17.291956</td>\n",
       "      <td>1.480471</td>\n",
       "    </tr>\n",
       "    <tr>\n",
       "      <th>min</th>\n",
       "      <td>0.010000</td>\n",
       "      <td>-74.018108</td>\n",
       "      <td>40.686538</td>\n",
       "      <td>-74.019535</td>\n",
       "      <td>40.690125</td>\n",
       "      <td>1.000000</td>\n",
       "      <td>2009.000000</td>\n",
       "      <td>1.000000</td>\n",
       "      <td>1.000000</td>\n",
       "      <td>0.000000</td>\n",
       "      <td>0.000000</td>\n",
       "      <td>0.000000</td>\n",
       "      <td>0.000202</td>\n",
       "    </tr>\n",
       "    <tr>\n",
       "      <th>25%</th>\n",
       "      <td>5.700000</td>\n",
       "      <td>-73.992763</td>\n",
       "      <td>40.738553</td>\n",
       "      <td>-73.991973</td>\n",
       "      <td>40.739061</td>\n",
       "      <td>1.000000</td>\n",
       "      <td>2010.000000</td>\n",
       "      <td>3.000000</td>\n",
       "      <td>8.000000</td>\n",
       "      <td>1.000000</td>\n",
       "      <td>9.000000</td>\n",
       "      <td>15.000000</td>\n",
       "      <td>1.184311</td>\n",
       "    </tr>\n",
       "    <tr>\n",
       "      <th>50%</th>\n",
       "      <td>7.700000</td>\n",
       "      <td>-73.982641</td>\n",
       "      <td>40.753563</td>\n",
       "      <td>-73.982029</td>\n",
       "      <td>40.754633</td>\n",
       "      <td>1.000000</td>\n",
       "      <td>2012.000000</td>\n",
       "      <td>6.000000</td>\n",
       "      <td>16.000000</td>\n",
       "      <td>3.000000</td>\n",
       "      <td>14.000000</td>\n",
       "      <td>30.000000</td>\n",
       "      <td>1.893020</td>\n",
       "    </tr>\n",
       "    <tr>\n",
       "      <th>75%</th>\n",
       "      <td>10.500000</td>\n",
       "      <td>-73.971368</td>\n",
       "      <td>40.766879</td>\n",
       "      <td>-73.970764</td>\n",
       "      <td>40.767438</td>\n",
       "      <td>2.000000</td>\n",
       "      <td>2013.000000</td>\n",
       "      <td>9.000000</td>\n",
       "      <td>23.000000</td>\n",
       "      <td>5.000000</td>\n",
       "      <td>19.000000</td>\n",
       "      <td>45.000000</td>\n",
       "      <td>2.991846</td>\n",
       "    </tr>\n",
       "    <tr>\n",
       "      <th>max</th>\n",
       "      <td>18.500000</td>\n",
       "      <td>-73.935007</td>\n",
       "      <td>40.815825</td>\n",
       "      <td>-73.933333</td>\n",
       "      <td>40.815357</td>\n",
       "      <td>6.000000</td>\n",
       "      <td>2015.000000</td>\n",
       "      <td>12.000000</td>\n",
       "      <td>31.000000</td>\n",
       "      <td>6.000000</td>\n",
       "      <td>23.000000</td>\n",
       "      <td>59.000000</td>\n",
       "      <td>10.631679</td>\n",
       "    </tr>\n",
       "  </tbody>\n",
       "</table>\n",
       "</div>"
      ],
      "text/plain": [
       "        fare_amount  pickup_longitude  pickup_latitude  dropoff_longitude  \\\n",
       "count  12874.000000      12874.000000     12874.000000       12874.000000   \n",
       "mean       8.353517        -73.981790        40.752959         -73.980946   \n",
       "std        3.452793          0.015946         0.021415           0.016446   \n",
       "min        0.010000        -74.018108        40.686538         -74.019535   \n",
       "25%        5.700000        -73.992763        40.738553         -73.991973   \n",
       "50%        7.700000        -73.982641        40.753563         -73.982029   \n",
       "75%       10.500000        -73.971368        40.766879         -73.970764   \n",
       "max       18.500000        -73.935007        40.815825         -73.933333   \n",
       "\n",
       "       dropoff_latitude  passenger_count          year         month  \\\n",
       "count      12874.000000     12874.000000  12874.000000  12874.000000   \n",
       "mean          40.753442         1.648672   2011.685568      6.220755   \n",
       "std            0.022136         1.266726      1.863041      3.456903   \n",
       "min           40.690125         1.000000   2009.000000      1.000000   \n",
       "25%           40.739061         1.000000   2010.000000      3.000000   \n",
       "50%           40.754633         1.000000   2012.000000      6.000000   \n",
       "75%           40.767438         2.000000   2013.000000      9.000000   \n",
       "max           40.815357         6.000000   2015.000000     12.000000   \n",
       "\n",
       "               date     dayofweek          hour        minute      distance  \n",
       "count  12874.000000  12874.000000  12874.000000  12874.000000  12874.000000  \n",
       "mean      15.671819      3.013904     13.679897     29.753379      2.272620  \n",
       "std        8.693171      1.958525      6.345621     17.291956      1.480471  \n",
       "min        1.000000      0.000000      0.000000      0.000000      0.000202  \n",
       "25%        8.000000      1.000000      9.000000     15.000000      1.184311  \n",
       "50%       16.000000      3.000000     14.000000     30.000000      1.893020  \n",
       "75%       23.000000      5.000000     19.000000     45.000000      2.991846  \n",
       "max       31.000000      6.000000     23.000000     59.000000     10.631679  "
      ]
     },
     "execution_count": 258,
     "metadata": {},
     "output_type": "execute_result"
    }
   ],
   "source": [
    "data.describe()"
   ]
  },
  {
   "cell_type": "code",
   "execution_count": 259,
   "id": "f71dcf30",
   "metadata": {},
   "outputs": [
    {
     "data": {
      "image/png": "[encoded data removed]",
      "text/plain": [
       "<Figure size 432x288 with 1 Axes>"
      ]
     },
     "metadata": {
      "needs_background": "light"
     },
     "output_type": "display_data"
    }
   ],
   "source": [
    "#Plot of Distance VS Fare\n",
    "plt.scatter(x=data['distance'],y=data['fare_amount'], color = 'salmon')\n",
    "plt.xlabel(\"Trip Distance\")\n",
    "plt.ylabel(\"Fare Amount\")\n",
    "plt.title(\"Trip Distance vs Fare Amount\")\n",
    "plt.show()"
   ]
  },
  {
   "cell_type": "code",
   "execution_count": 260,
   "id": "a95e749f",
   "metadata": {},
   "outputs": [],
   "source": [
    "for i in float_variable:\n",
    "    data[i] = data[i].astype('int64')"
   ]
  },
  {
   "cell_type": "code",
   "execution_count": 261,
   "id": "604d4e9f",
   "metadata": {},
   "outputs": [
    {
     "name": "stdout",
     "output_type": "stream",
     "text": [
      "fare_amount                 float64\n",
      "pickup_datetime      datetime64[ns]\n",
      "pickup_longitude            float64\n",
      "pickup_latitude             float64\n",
      "dropoff_longitude           float64\n",
      "dropoff_latitude            float64\n",
      "passenger_count               int64\n",
      "year                          int64\n",
      "month                         int64\n",
      "date                          int64\n",
      "dayofweek                     int64\n",
      "hour                          int64\n",
      "minute                        int64\n",
      "distance                    float64\n",
      "dtype: object\n"
     ]
    },
    {
     "data": {
      "text/plain": [
       "count    12874.000000\n",
       "mean         8.353517\n",
       "std          3.452793\n",
       "min          0.010000\n",
       "25%          5.700000\n",
       "50%          7.700000\n",
       "75%         10.500000\n",
       "max         18.500000\n",
       "Name: fare_amount, dtype: float64"
      ]
     },
     "execution_count": 261,
     "metadata": {},
     "output_type": "execute_result"
    }
   ],
   "source": [
    "print(data.dtypes)\n",
    "data['fare_amount'].describe()"
   ]
  },
  {
   "cell_type": "code",
   "execution_count": 262,
   "id": "ef03a99a",
   "metadata": {},
   "outputs": [
    {
     "data": {
      "text/html": [
       "<div>\n",
       "<style scoped>\n",
       "    .dataframe tbody tr th:only-of-type {\n",
       "        vertical-align: middle;\n",
       "    }\n",
       "\n",
       "    .dataframe tbody tr th {\n",
       "        vertical-align: top;\n",
       "    }\n",
       "\n",
       "    .dataframe thead th {\n",
       "        text-align: right;\n",
       "    }\n",
       "</style>\n",
       "<table border=\"1\" class=\"dataframe\">\n",
       "  <thead>\n",
       "    <tr style=\"text-align: right;\">\n",
       "      <th></th>\n",
       "      <th>fare_amount</th>\n",
       "      <th>pickup_datetime</th>\n",
       "      <th>pickup_longitude</th>\n",
       "      <th>pickup_latitude</th>\n",
       "      <th>dropoff_longitude</th>\n",
       "      <th>dropoff_latitude</th>\n",
       "      <th>passenger_count</th>\n",
       "      <th>year</th>\n",
       "      <th>month</th>\n",
       "      <th>date</th>\n",
       "      <th>dayofweek</th>\n",
       "      <th>hour</th>\n",
       "      <th>minute</th>\n",
       "      <th>distance</th>\n",
       "    </tr>\n",
       "  </thead>\n",
       "  <tbody>\n",
       "  </tbody>\n",
       "</table>\n",
       "</div>"
      ],
      "text/plain": [
       "Empty DataFrame\n",
       "Columns: [fare_amount, pickup_datetime, pickup_longitude, pickup_latitude, dropoff_longitude, dropoff_latitude, passenger_count, year, month, date, dayofweek, hour, minute, distance]\n",
       "Index: []"
      ]
     },
     "execution_count": 262,
     "metadata": {},
     "output_type": "execute_result"
    }
   ],
   "source": [
    "data[data['pickup_longitude']<-90]\n",
    "data[data['pickup_longitude']>90]\n",
    "data[data['dropoff_longitude']<-90]\n",
    "data[data['dropoff_longitude']>90]"
   ]
  },
  {
   "cell_type": "code",
   "execution_count": 263,
   "id": "207672b3",
   "metadata": {},
   "outputs": [
    {
     "data": {
      "text/html": [
       "<div>\n",
       "<style scoped>\n",
       "    .dataframe tbody tr th:only-of-type {\n",
       "        vertical-align: middle;\n",
       "    }\n",
       "\n",
       "    .dataframe tbody tr th {\n",
       "        vertical-align: top;\n",
       "    }\n",
       "\n",
       "    .dataframe thead th {\n",
       "        text-align: right;\n",
       "    }\n",
       "</style>\n",
       "<table border=\"1\" class=\"dataframe\">\n",
       "  <thead>\n",
       "    <tr style=\"text-align: right;\">\n",
       "      <th></th>\n",
       "      <th>fare_amount</th>\n",
       "      <th>pickup_datetime</th>\n",
       "      <th>pickup_longitude</th>\n",
       "      <th>pickup_latitude</th>\n",
       "      <th>dropoff_longitude</th>\n",
       "      <th>dropoff_latitude</th>\n",
       "      <th>passenger_count</th>\n",
       "      <th>year</th>\n",
       "      <th>month</th>\n",
       "      <th>date</th>\n",
       "      <th>dayofweek</th>\n",
       "      <th>hour</th>\n",
       "      <th>minute</th>\n",
       "      <th>distance</th>\n",
       "    </tr>\n",
       "  </thead>\n",
       "  <tbody>\n",
       "  </tbody>\n",
       "</table>\n",
       "</div>"
      ],
      "text/plain": [
       "Empty DataFrame\n",
       "Columns: [fare_amount, pickup_datetime, pickup_longitude, pickup_latitude, dropoff_longitude, dropoff_latitude, passenger_count, year, month, date, dayofweek, hour, minute, distance]\n",
       "Index: []"
      ]
     },
     "execution_count": 263,
     "metadata": {},
     "output_type": "execute_result"
    }
   ],
   "source": [
    "data[data['pickup_longitude']<-180]\n",
    "data[data['pickup_longitude']>180]\n",
    "data[data['dropoff_longitude']<-90]\n",
    "data[data['dropoff_longitude']>90]"
   ]
  },
  {
   "cell_type": "code",
   "execution_count": 264,
   "id": "bd06a8f3",
   "metadata": {},
   "outputs": [
    {
     "name": "stdout",
     "output_type": "stream",
     "text": [
      "(12874, 14)\n"
     ]
    }
   ],
   "source": [
    "print(data.shape)"
   ]
  },
  {
   "cell_type": "code",
   "execution_count": 265,
   "id": "89bb54ff",
   "metadata": {},
   "outputs": [],
   "source": [
    "data = data.drop(['pickup_datetime'],axis = 1)"
   ]
  },
  {
   "cell_type": "code",
   "execution_count": 266,
   "id": "b430f740",
   "metadata": {},
   "outputs": [],
   "source": [
    "data2 = data"
   ]
  },
  {
   "cell_type": "code",
   "execution_count": 267,
   "id": "ea876fb4",
   "metadata": {},
   "outputs": [],
   "source": [
    "trips_dayofweek = pd.DataFrame(data['dayofweek'].value_counts())\n",
    "trips_dayofweek = trips_dayofweek.reset_index()\n",
    "trips_dayofweek = trips_dayofweek.rename(columns = {'index':'pickup_day','dayofweek':'num_trips'})"
   ]
  },
  {
   "cell_type": "code",
   "execution_count": 268,
   "id": "4bd7c9e5",
   "metadata": {},
   "outputs": [
    {
     "data": {
      "image/png": "[encoded data removed]",
      "text/plain": [
       "<Figure size 432x288 with 1 Axes>"
      ]
     },
     "metadata": {
      "needs_background": "light"
     },
     "output_type": "display_data"
    }
   ],
   "source": [
    "sns.barplot(x='pickup_day',y='num_trips',data=trips_dayofweek, color = 'salmon')\n",
    "plt.show()"
   ]
  },
  {
   "cell_type": "code",
   "execution_count": 269,
   "id": "69c66883",
   "metadata": {},
   "outputs": [
    {
     "data": {
      "image/png": "[encoded data removed]",
      "text/plain": [
       "<Figure size 432x288 with 1 Axes>"
      ]
     },
     "metadata": {
      "needs_background": "light"
     },
     "output_type": "display_data"
    }
   ],
   "source": [
    "trips_month=pd.DataFrame(data['month'].value_counts())\n",
    "trips_month=trips_month.reset_index()\n",
    "trips_month=trips_month.rename(columns={'index':'pickup_month','month':'num_trips'})\n",
    "\n",
    "\n",
    "sns.barplot(x='pickup_month',y='num_trips',data=trips_month,color = 'salmon')\n",
    "plt.show()"
   ]
  },
  {
   "cell_type": "code",
   "execution_count": 270,
   "id": "5f8fd389",
   "metadata": {},
   "outputs": [
    {
     "data": {
      "image/png": "[encoded data removed]",
      "text/plain": [
       "<Figure size 432x288 with 1 Axes>"
      ]
     },
     "metadata": {
      "needs_background": "light"
     },
     "output_type": "display_data"
    }
   ],
   "source": [
    "#pickup_hour\n",
    "trips_hour=pd.DataFrame(data['hour'].value_counts())\n",
    "trips_hour=trips_hour.reset_index()\n",
    "trips_hour=trips_hour.rename(columns={'index':'pickup_hour','hour':'num_trips'})\n",
    "\n",
    "\n",
    "sns.barplot(x='pickup_hour',y='num_trips',data=trips_hour, color = 'salmon')\n",
    "plt.show()"
   ]
  },
  {
   "cell_type": "code",
   "execution_count": 271,
   "id": "166a673f",
   "metadata": {},
   "outputs": [
    {
     "data": {
      "image/png": "[encoded data removed]",
      "text/plain": [
       "<Figure size 432x288 with 1 Axes>"
      ]
     },
     "metadata": {
      "needs_background": "light"
     },
     "output_type": "display_data"
    }
   ],
   "source": [
    "#passenger_count\n",
    "pass_count=pd.DataFrame(data['passenger_count'].value_counts())\n",
    "pass_count=pass_count.reset_index()\n",
    "pass_count=pass_count.rename(columns={'index':'passenger_count','passenger_count':'num_trips'})\n",
    "\n",
    "\n",
    "sns.barplot(x='passenger_count',y='num_trips',data=pass_count,color = 'salmon')\n",
    "plt.show()"
   ]
  },
  {
   "cell_type": "code",
   "execution_count": 272,
   "id": "a54fca17",
   "metadata": {},
   "outputs": [
    {
     "data": {
      "image/png": "[encoded data removed]",
      "text/plain": [
       "<Figure size 432x288 with 1 Axes>"
      ]
     },
     "metadata": {
      "needs_background": "light"
     },
     "output_type": "display_data"
    }
   ],
   "source": [
    "##pickup_day\n",
    "trips_day=pd.DataFrame(data['date'].value_counts())\n",
    "trips_day=trips_day.reset_index()\n",
    "trips_day=trips_day.rename(columns={'index':'pickup_day','date':'num_trips'})\n",
    "\n",
    "\n",
    "sns.barplot(x='pickup_day',y='num_trips',data=trips_day,color = 'salmon')\n",
    "plt.show()"
   ]
  },
  {
   "cell_type": "code",
   "execution_count": 273,
   "id": "135831f9",
   "metadata": {},
   "outputs": [
    {
     "name": "stderr",
     "output_type": "stream",
     "text": [
      "C:\\Users\\HP\\AppData\\Local\\Temp\\ipykernel_2516\\2837068730.py:10: DeprecationWarning: `np.bool` is a deprecated alias for the builtin `bool`. To silence this warning, use `bool` by itself. Doing this will not modify any behavior and is safe. If you specifically wanted the numpy scalar type, use `np.bool_` here.\n",
      "Deprecated in NumPy 1.20; for more details and guidance: https://numpy.org/devdocs/release/1.20.0-notes.html#deprecations\n",
      "  sns.heatmap(corr, mask=np.zeros_like(corr, dtype=np.bool), cmap=sns.diverging_palette(220, 10, as_cmap=True),\n"
     ]
    },
    {
     "data": {
      "image/png": "[encoded data removed]",
      "text/plain": [
       "<Figure size 720x720 with 2 Axes>"
      ]
     },
     "metadata": {
      "needs_background": "light"
     },
     "output_type": "display_data"
    }
   ],
   "source": [
    "col_list=list(data.columns.values)\n",
    "df_corr = data.loc[:,col_list]\n",
    "#Set the width and hieght of the plot\n",
    "f, ax = plt.subplots(figsize=(10, 10))\n",
    "\n",
    "#Generate correlation matrix\n",
    "corr = df_corr.corr()\n",
    "\n",
    "#Plot using seaborn library\n",
    "sns.heatmap(corr, mask=np.zeros_like(corr, dtype=np.bool), cmap=sns.diverging_palette(220, 10, as_cmap=True),\n",
    "            square=True, ax=ax, annot=True)\n",
    "plt.show()"
   ]
  },
  {
   "cell_type": "markdown",
   "id": "5a365ab0",
   "metadata": {},
   "source": [
    "# Modelling"
   ]
  },
  {
   "cell_type": "code",
   "execution_count": 274,
   "id": "ab4b9e36",
   "metadata": {},
   "outputs": [],
   "source": [
    "from sklearn.model_selection import train_test_split"
   ]
  },
  {
   "cell_type": "code",
   "execution_count": 275,
   "id": "28e1379d",
   "metadata": {},
   "outputs": [],
   "source": [
    "y = data['fare_amount']\n",
    "X = data.drop(['fare_amount'],axis = 1)"
   ]
  },
  {
   "cell_type": "code",
   "execution_count": 276,
   "id": "2c22959c",
   "metadata": {},
   "outputs": [],
   "source": [
    "X_train, X_test, y_train, y_test = train_test_split(X, y,random_state=42, test_size=0.25)"
   ]
  },
  {
   "cell_type": "code",
   "execution_count": 277,
   "id": "417352dd",
   "metadata": {},
   "outputs": [],
   "source": [
    "#Error Metrics\n",
    "def MAPE(y_true, y_pred): \n",
    "    mape = np.mean(np.abs((y_true - y_pred) / y_true))*100\n",
    "    return mape\n",
    "from sklearn.metrics import r2_score"
   ]
  },
  {
   "cell_type": "markdown",
   "id": "478c83f4",
   "metadata": {},
   "source": [
    "# Model development"
   ]
  },
  {
   "cell_type": "code",
   "execution_count": 278,
   "id": "b6a153c9",
   "metadata": {},
   "outputs": [
    {
     "name": "stdout",
     "output_type": "stream",
     "text": [
      "MAPE for Random Forest is  16.821926523783848\n",
      "Accuracy for Random Forest  is  83.17807347621616\n",
      "r2_score for Random Forest is  0.7114128936216437\n"
     ]
    }
   ],
   "source": [
    "#Random Forest\n",
    "\n",
    "from sklearn.ensemble import RandomForestRegressor\n",
    "regressor =RandomForestRegressor(n_estimators=25, max_features=6, max_depth=25, min_samples_split=3,\n",
    "                              min_samples_leaf=2, random_state=0)\n",
    "regressor.fit(X_train,y_train)\n",
    "y_pred = regressor.predict(X_test)\n",
    "\n",
    "\n",
    "print(\"MAPE for Random Forest is \",MAPE(y_test, y_pred))\n",
    "print(\"Accuracy for Random Forest  is \",100-MAPE(y_test, y_pred))\n",
    "print(\"r2_score for Random Forest is \",r2_score(y_test, y_pred))"
   ]
  },
  {
   "cell_type": "code",
   "execution_count": 279,
   "id": "b13a3214",
   "metadata": {},
   "outputs": [],
   "source": [
    "feature_importance =pd.DataFrame(regressor.feature_importances_,X_train.columns)\n",
    "feature_importance = feature_importance.reset_index()\n",
    "feature_importance.columns = ['features','importances']\n",
    "feature_importance = feature_importance.sort_values('importances',ascending = False)"
   ]
  },
  {
   "cell_type": "code",
   "execution_count": 280,
   "id": "eb9e4dc2",
   "metadata": {},
   "outputs": [
    {
     "data": {
      "image/png": "[encoded data removed]",
      "text/plain": [
       "<Figure size 432x288 with 1 Axes>"
      ]
     },
     "metadata": {
      "needs_background": "light"
     },
     "output_type": "display_data"
    }
   ],
   "source": [
    "sns.barplot(x ='importances',y = 'features', data = feature_importance, color = 'salmon')\n",
    "plt.show()"
   ]
  },
  {
   "cell_type": "code",
   "execution_count": 281,
   "id": "0594993b",
   "metadata": {},
   "outputs": [
    {
     "name": "stdout",
     "output_type": "stream",
     "text": [
      "mape 18.531133085342745\n",
      "accuracy 81.46886691465726\n",
      "r2_score 0.6909724658713294\n"
     ]
    }
   ],
   "source": [
    "# stat model linear regression\n",
    "train,test =train_test_split(data,test_size = 0.25)\n",
    "\n",
    "# Importing libraries for Linear Regression\n",
    "from sklearn.linear_model import LinearRegression\n",
    "\n",
    "#Building Random forest model\n",
    "Model_LR = LinearRegression().fit(train.iloc[:,1:], train.iloc[:,0])\n",
    "\n",
    "#Apply model on test data\n",
    "predictions_LR = Model_LR.predict(test.iloc[:,1:])\n",
    "mape = MAPE((test.iloc[:,0]),predictions_LR)\n",
    "print('mape',mape)\n",
    "print('accuracy',100-mape)\n",
    "print('r2_score',r2_score(test.iloc[:,0],predictions_LR))"
   ]
  },
  {
   "cell_type": "code",
   "execution_count": 282,
   "id": "eba7cec0",
   "metadata": {},
   "outputs": [
    {
     "name": "stdout",
     "output_type": "stream",
     "text": [
      "MAPE 18.457182825585715\n",
      "Accuracy 81.54281717441428\n",
      "r2_score 0.6659403445269338\n"
     ]
    }
   ],
   "source": [
    "#sklearn Linear regression\n",
    "\n",
    "from sklearn.linear_model import LinearRegression\n",
    "lm = LinearRegression()\n",
    "lm.fit(X_train,y_train)\n",
    "\n",
    "y_pred=lm.predict(X_test)\n",
    "\n",
    "print(\"MAPE\",MAPE(y_test, y_pred))\n",
    "print(\"Accuracy\",100-MAPE(y_test, y_pred))\n",
    "print(\"r2_score\",r2_score(y_test, y_pred))"
   ]
  },
  {
   "cell_type": "code",
   "execution_count": 283,
   "id": "fb553af5",
   "metadata": {},
   "outputs": [
    {
     "name": "stdout",
     "output_type": "stream",
     "text": [
      "MAPE 23.70315227319925\n",
      "Accuracy 76.29684772680075\n",
      "r2_score 0.4327982495243574\n"
     ]
    }
   ],
   "source": [
    "#Decision Tree Regressor\n",
    "\n",
    "from sklearn.tree import DecisionTreeRegressor  \n",
    "regressor = DecisionTreeRegressor()  \n",
    "regressor.fit(X_train, y_train)\n",
    "# predict\n",
    "y_pred = regressor.predict(X_test) \n",
    "  \n",
    "print(\"MAPE\",MAPE(y_test, y_pred))\n",
    "print(\"Accuracy\",100-MAPE(y_test, y_pred))\n",
    "print(\"r2_score\",r2_score(y_test, y_pred))"
   ]
  },
  {
   "cell_type": "code",
   "execution_count": 284,
   "id": "85b67c3e",
   "metadata": {},
   "outputs": [
    {
     "name": "stdout",
     "output_type": "stream",
     "text": [
      "mape 58.64270673063046\n",
      "accuracy 41.35729326936954\n"
     ]
    }
   ],
   "source": [
    "## KNearest Neighbors\n",
    "\n",
    "train , test = train_test_split(data, test_size = 0.25)\n",
    "from sklearn.neighbors import KNeighborsRegressor\n",
    "knn_model = KNeighborsRegressor(n_neighbors = 35).fit(train.iloc[:,1:],train.iloc[:,0])\n",
    "knn_predictions = knn_model.predict(test.iloc[:,1:])\n",
    "mape = MAPE(test.iloc[:,0],knn_predictions)\n",
    "print('mape',mape)\n",
    "print('accuracy',100-mape)"
   ]
  },
  {
   "cell_type": "code",
   "execution_count": 285,
   "id": "5cace0ab",
   "metadata": {},
   "outputs": [],
   "source": [
    "#since sklearn linear regression has the highest accuracy, so freezing this model for our test data."
   ]
  },
  {
   "cell_type": "markdown",
   "id": "74e6eac9",
   "metadata": {},
   "source": [
    "# Cleaning the test data for modelling"
   ]
  },
  {
   "cell_type": "code",
   "execution_count": 286,
   "id": "79818fbd",
   "metadata": {},
   "outputs": [],
   "source": [
    "data_test = pd.read_csv('test_data.csv')"
   ]
  },
  {
   "cell_type": "code",
   "execution_count": 287,
   "id": "a3bdbb81",
   "metadata": {},
   "outputs": [
    {
     "data": {
      "text/html": [
       "<div>\n",
       "<style scoped>\n",
       "    .dataframe tbody tr th:only-of-type {\n",
       "        vertical-align: middle;\n",
       "    }\n",
       "\n",
       "    .dataframe tbody tr th {\n",
       "        vertical-align: top;\n",
       "    }\n",
       "\n",
       "    .dataframe thead th {\n",
       "        text-align: right;\n",
       "    }\n",
       "</style>\n",
       "<table border=\"1\" class=\"dataframe\">\n",
       "  <thead>\n",
       "    <tr style=\"text-align: right;\">\n",
       "      <th></th>\n",
       "      <th>pickup_datetime</th>\n",
       "      <th>pickup_longitude</th>\n",
       "      <th>pickup_latitude</th>\n",
       "      <th>dropoff_longitude</th>\n",
       "      <th>dropoff_latitude</th>\n",
       "      <th>passenger_count</th>\n",
       "    </tr>\n",
       "  </thead>\n",
       "  <tbody>\n",
       "    <tr>\n",
       "      <th>0</th>\n",
       "      <td>2015-01-27 13:08:24 UTC</td>\n",
       "      <td>-73.973320</td>\n",
       "      <td>40.763805</td>\n",
       "      <td>-73.981430</td>\n",
       "      <td>40.743835</td>\n",
       "      <td>1</td>\n",
       "    </tr>\n",
       "    <tr>\n",
       "      <th>1</th>\n",
       "      <td>2015-01-27 13:08:24 UTC</td>\n",
       "      <td>-73.986862</td>\n",
       "      <td>40.719383</td>\n",
       "      <td>-73.998886</td>\n",
       "      <td>40.739201</td>\n",
       "      <td>1</td>\n",
       "    </tr>\n",
       "    <tr>\n",
       "      <th>2</th>\n",
       "      <td>2011-10-08 11:53:44 UTC</td>\n",
       "      <td>-73.982524</td>\n",
       "      <td>40.751260</td>\n",
       "      <td>-73.979654</td>\n",
       "      <td>40.746139</td>\n",
       "      <td>1</td>\n",
       "    </tr>\n",
       "    <tr>\n",
       "      <th>3</th>\n",
       "      <td>2012-12-01 21:12:12 UTC</td>\n",
       "      <td>-73.981160</td>\n",
       "      <td>40.767807</td>\n",
       "      <td>-73.990448</td>\n",
       "      <td>40.751635</td>\n",
       "      <td>1</td>\n",
       "    </tr>\n",
       "    <tr>\n",
       "      <th>4</th>\n",
       "      <td>2012-12-01 21:12:12 UTC</td>\n",
       "      <td>-73.966046</td>\n",
       "      <td>40.789775</td>\n",
       "      <td>-73.988565</td>\n",
       "      <td>40.744427</td>\n",
       "      <td>1</td>\n",
       "    </tr>\n",
       "    <tr>\n",
       "      <th>5</th>\n",
       "      <td>2012-12-01 21:12:12 UTC</td>\n",
       "      <td>-73.960983</td>\n",
       "      <td>40.765547</td>\n",
       "      <td>-73.979177</td>\n",
       "      <td>40.740053</td>\n",
       "      <td>1</td>\n",
       "    </tr>\n",
       "    <tr>\n",
       "      <th>6</th>\n",
       "      <td>2011-10-06 12:10:20 UTC</td>\n",
       "      <td>-73.949013</td>\n",
       "      <td>40.773204</td>\n",
       "      <td>-73.959622</td>\n",
       "      <td>40.770893</td>\n",
       "      <td>1</td>\n",
       "    </tr>\n",
       "    <tr>\n",
       "      <th>7</th>\n",
       "      <td>2011-10-06 12:10:20 UTC</td>\n",
       "      <td>-73.777282</td>\n",
       "      <td>40.646636</td>\n",
       "      <td>-73.985083</td>\n",
       "      <td>40.759368</td>\n",
       "      <td>1</td>\n",
       "    </tr>\n",
       "    <tr>\n",
       "      <th>8</th>\n",
       "      <td>2011-10-06 12:10:20 UTC</td>\n",
       "      <td>-74.014099</td>\n",
       "      <td>40.709638</td>\n",
       "      <td>-73.995106</td>\n",
       "      <td>40.741365</td>\n",
       "      <td>1</td>\n",
       "    </tr>\n",
       "    <tr>\n",
       "      <th>9</th>\n",
       "      <td>2014-02-18 15:22:20 UTC</td>\n",
       "      <td>-73.969582</td>\n",
       "      <td>40.765519</td>\n",
       "      <td>-73.980686</td>\n",
       "      <td>40.770725</td>\n",
       "      <td>1</td>\n",
       "    </tr>\n",
       "  </tbody>\n",
       "</table>\n",
       "</div>"
      ],
      "text/plain": [
       "           pickup_datetime  pickup_longitude  pickup_latitude  \\\n",
       "0  2015-01-27 13:08:24 UTC        -73.973320        40.763805   \n",
       "1  2015-01-27 13:08:24 UTC        -73.986862        40.719383   \n",
       "2  2011-10-08 11:53:44 UTC        -73.982524        40.751260   \n",
       "3  2012-12-01 21:12:12 UTC        -73.981160        40.767807   \n",
       "4  2012-12-01 21:12:12 UTC        -73.966046        40.789775   \n",
       "5  2012-12-01 21:12:12 UTC        -73.960983        40.765547   \n",
       "6  2011-10-06 12:10:20 UTC        -73.949013        40.773204   \n",
       "7  2011-10-06 12:10:20 UTC        -73.777282        40.646636   \n",
       "8  2011-10-06 12:10:20 UTC        -74.014099        40.709638   \n",
       "9  2014-02-18 15:22:20 UTC        -73.969582        40.765519   \n",
       "\n",
       "   dropoff_longitude  dropoff_latitude  passenger_count  \n",
       "0         -73.981430         40.743835                1  \n",
       "1         -73.998886         40.739201                1  \n",
       "2         -73.979654         40.746139                1  \n",
       "3         -73.990448         40.751635                1  \n",
       "4         -73.988565         40.744427                1  \n",
       "5         -73.979177         40.740053                1  \n",
       "6         -73.959622         40.770893                1  \n",
       "7         -73.985083         40.759368                1  \n",
       "8         -73.995106         40.741365                1  \n",
       "9         -73.980686         40.770725                1  "
      ]
     },
     "execution_count": 287,
     "metadata": {},
     "output_type": "execute_result"
    }
   ],
   "source": [
    "data_test.head(10)"
   ]
  },
  {
   "cell_type": "code",
   "execution_count": 288,
   "id": "39f8c5b7",
   "metadata": {},
   "outputs": [],
   "source": [
    "#type conversion\n",
    "data_test['pickup_datetime'] = pd.to_datetime(data_test['pickup_datetime'],format = '%Y-%m-%d %H:%M:%S UTC',errors = 'coerce')\n",
    "\n",
    "data_test['year'] = data_test['pickup_datetime'].dt.year\n",
    "data_test['month'] = data_test['pickup_datetime'].dt.month\n",
    "data_test['date'] = data_test['pickup_datetime'].dt.day\n",
    "data_test['dayofweek'] = data_test['pickup_datetime'].dt.dayofweek\n",
    "data_test['hour'] = data_test['pickup_datetime'].dt.hour\n",
    "data_test['minute'] = data_test['pickup_datetime'].dt.minute\n",
    "\n",
    "float_variable = ['passenger_count', 'year','month','date','dayofweek','hour','minute']\n",
    "missing_val_test = pd.DataFrame(data_test.isnull().sum())"
   ]
  },
  {
   "cell_type": "code",
   "execution_count": 289,
   "id": "dc6e6ea7",
   "metadata": {},
   "outputs": [
    {
     "data": {
      "text/html": [
       "<div>\n",
       "<style scoped>\n",
       "    .dataframe tbody tr th:only-of-type {\n",
       "        vertical-align: middle;\n",
       "    }\n",
       "\n",
       "    .dataframe tbody tr th {\n",
       "        vertical-align: top;\n",
       "    }\n",
       "\n",
       "    .dataframe thead th {\n",
       "        text-align: right;\n",
       "    }\n",
       "</style>\n",
       "<table border=\"1\" class=\"dataframe\">\n",
       "  <thead>\n",
       "    <tr style=\"text-align: right;\">\n",
       "      <th></th>\n",
       "      <th>0</th>\n",
       "    </tr>\n",
       "  </thead>\n",
       "  <tbody>\n",
       "    <tr>\n",
       "      <th>pickup_datetime</th>\n",
       "      <td>0</td>\n",
       "    </tr>\n",
       "    <tr>\n",
       "      <th>pickup_longitude</th>\n",
       "      <td>0</td>\n",
       "    </tr>\n",
       "    <tr>\n",
       "      <th>pickup_latitude</th>\n",
       "      <td>0</td>\n",
       "    </tr>\n",
       "    <tr>\n",
       "      <th>dropoff_longitude</th>\n",
       "      <td>0</td>\n",
       "    </tr>\n",
       "    <tr>\n",
       "      <th>dropoff_latitude</th>\n",
       "      <td>0</td>\n",
       "    </tr>\n",
       "    <tr>\n",
       "      <th>passenger_count</th>\n",
       "      <td>0</td>\n",
       "    </tr>\n",
       "    <tr>\n",
       "      <th>year</th>\n",
       "      <td>0</td>\n",
       "    </tr>\n",
       "    <tr>\n",
       "      <th>month</th>\n",
       "      <td>0</td>\n",
       "    </tr>\n",
       "    <tr>\n",
       "      <th>date</th>\n",
       "      <td>0</td>\n",
       "    </tr>\n",
       "    <tr>\n",
       "      <th>dayofweek</th>\n",
       "      <td>0</td>\n",
       "    </tr>\n",
       "    <tr>\n",
       "      <th>hour</th>\n",
       "      <td>0</td>\n",
       "    </tr>\n",
       "    <tr>\n",
       "      <th>minute</th>\n",
       "      <td>0</td>\n",
       "    </tr>\n",
       "  </tbody>\n",
       "</table>\n",
       "</div>"
      ],
      "text/plain": [
       "                   0\n",
       "pickup_datetime    0\n",
       "pickup_longitude   0\n",
       "pickup_latitude    0\n",
       "dropoff_longitude  0\n",
       "dropoff_latitude   0\n",
       "passenger_count    0\n",
       "year               0\n",
       "month              0\n",
       "date               0\n",
       "dayofweek          0\n",
       "hour               0\n",
       "minute             0"
      ]
     },
     "execution_count": 289,
     "metadata": {},
     "output_type": "execute_result"
    }
   ],
   "source": [
    "missing_val_test"
   ]
  },
  {
   "cell_type": "code",
   "execution_count": 290,
   "id": "5a4aadc0",
   "metadata": {},
   "outputs": [],
   "source": [
    "data_test= data_test.drop(['pickup_datetime'],axis =1)"
   ]
  },
  {
   "cell_type": "code",
   "execution_count": 291,
   "id": "3ddb94d8",
   "metadata": {},
   "outputs": [
    {
     "name": "stderr",
     "output_type": "stream",
     "text": [
      "C:\\Users\\HP\\AppData\\Local\\Temp\\ipykernel_2516\\2508136145.py:4: SettingWithCopyWarning: \n",
      "A value is trying to be set on a copy of a slice from a DataFrame\n",
      "\n",
      "See the caveats in the documentation: https://pandas.pydata.org/pandas-docs/stable/user_guide/indexing.html#returning-a-view-versus-a-copy\n",
      "  data_test['distance'].iloc[i]=haversine((data_test['pickup_latitude'].iloc[i],data_test['pickup_longitude'].iloc[i]),(data_test['dropoff_latitude'].iloc[i],data_test['dropoff_longitude'].iloc[i]))\n"
     ]
    }
   ],
   "source": [
    "data_test['distance']=0\n",
    "\n",
    "for i in range(0,len(data_test)):\n",
    "    data_test['distance'].iloc[i]=haversine((data_test['pickup_latitude'].iloc[i],data_test['pickup_longitude'].iloc[i]),(data_test['dropoff_latitude'].iloc[i],data_test['dropoff_longitude'].iloc[i])) "
   ]
  },
  {
   "cell_type": "code",
   "execution_count": 292,
   "id": "4847cd55",
   "metadata": {},
   "outputs": [],
   "source": [
    "predicted_fare_amount = lm.predict(data_test)"
   ]
  },
  {
   "cell_type": "code",
   "execution_count": 293,
   "id": "5d375a42",
   "metadata": {},
   "outputs": [],
   "source": [
    "data_test['predicted_fare_amount'] = predicted_fare_amount"
   ]
  },
  {
   "cell_type": "code",
   "execution_count": 294,
   "id": "7d1bdbfc",
   "metadata": {},
   "outputs": [],
   "source": [
    "data_test.to_csv('Cab_fare_PredictionPython.csv', index = False)"
   ]
  }
 ],
 "metadata": {
  "kernelspec": {
   "display_name": "Python 3 (ipykernel)",
   "language": "python",
   "name": "python3"
  },
  "language_info": {
   "codemirror_mode": {
    "name": "ipython",
    "version": 3
   },
   "file_extension": ".py",
   "mimetype": "text/x-python",
   "name": "python",
   "nbconvert_exporter": "python",
   "pygments_lexer": "ipython3",
   "version": "3.10.1"
  }
 },
 "nbformat": 4,
 "nbformat_minor": 5
}
