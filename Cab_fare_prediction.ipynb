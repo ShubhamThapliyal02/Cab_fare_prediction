{
 "cells": [
  {
   "cell_type": "code",
   "execution_count": null,
   "id": "6a474be2",
   "metadata": {},
   "outputs": [],
   "source": [
    "import os\n",
    "import pandas as pd\n",
    "import numpy as np\n",
    "import matplotlib.pyplot as plt\n",
    "from scipy.stats import chi2_contingency\n",
    "import seaborn as sns\n",
    "from random import randrange, uniform"
   ]
  },
  {
   "cell_type": "code",
   "execution_count": null,
   "id": "37f16346",
   "metadata": {},
   "outputs": [],
   "source": [
    "data = pd.read_csv('train_cab.csv')"
   ]
  },
  {
   "cell_type": "code",
   "execution_count": null,
   "id": "20662a05",
   "metadata": {},
   "outputs": [],
   "source": [
    "#type conversion\n",
    "data['pickup_datetime'] = pd.to_datetime(data['pickup_datetime'],format = '%Y-%m-%d %H:%M:%S UTC',errors = 'coerce')"
   ]
  },
  {
   "cell_type": "code",
   "execution_count": null,
   "id": "5ac8ac08",
   "metadata": {},
   "outputs": [],
   "source": [
    "data['year'] = data['pickup_datetime'].dt.year\n",
    "data['month'] = data['pickup_datetime'].dt.month\n",
    "data['date'] = data['pickup_datetime'].dt.day\n",
    "data['dayofweek'] = data['pickup_datetime'].dt.dayofweek\n",
    "data['hour'] = data['pickup_datetime'].dt.hour\n",
    "data['minute'] = data['pickup_datetime'].dt.minute"
   ]
  },
  {
   "cell_type": "code",
   "execution_count": null,
   "id": "a0f40f94",
   "metadata": {},
   "outputs": [],
   "source": [
    "float_variable = ['passenger_count', 'year','month','date','dayofweek','hour','minute']"
   ]
  },
  {
   "cell_type": "code",
   "execution_count": null,
   "id": "af50c33c",
   "metadata": {},
   "outputs": [],
   "source": [
    "missing_val = pd.DataFrame(data.isnull().sum())"
   ]
  },
  {
   "cell_type": "code",
   "execution_count": null,
   "id": "7959ed63",
   "metadata": {},
   "outputs": [],
   "source": [
    "missing_val= missing_val.reset_index()"
   ]
  },
  {
   "cell_type": "code",
   "execution_count": null,
   "id": "b20a3692",
   "metadata": {},
   "outputs": [],
   "source": [
    "missing_val = missing_val.rename(columns= {'index':'features',0:'missing_percentage'})"
   ]
  },
  {
   "cell_type": "code",
   "execution_count": null,
   "id": "a49ab069",
   "metadata": {},
   "outputs": [],
   "source": []
  },
  {
   "cell_type": "code",
   "execution_count": null,
   "id": "862d8602",
   "metadata": {},
   "outputs": [],
   "source": []
  },
  {
   "cell_type": "code",
   "execution_count": null,
   "id": "99debefd",
   "metadata": {},
   "outputs": [],
   "source": []
  },
  {
   "cell_type": "code",
   "execution_count": null,
   "id": "bd151970",
   "metadata": {},
   "outputs": [],
   "source": []
  },
  {
   "cell_type": "code",
   "execution_count": null,
   "id": "10a2a69e",
   "metadata": {},
   "outputs": [],
   "source": []
  },
  {
   "cell_type": "code",
   "execution_count": null,
   "id": "42419dda",
   "metadata": {},
   "outputs": [],
   "source": []
  }
 ],
 "metadata": {
  "kernelspec": {
   "display_name": "Python 3 (ipykernel)",
   "language": "python",
   "name": "python3"
  },
  "language_info": {
   "codemirror_mode": {
    "name": "ipython",
    "version": 3
   },
   "file_extension": ".py",
   "mimetype": "text/x-python",
   "name": "python",
   "nbconvert_exporter": "python",
   "pygments_lexer": "ipython3",
   "version": "3.10.1"
  }
 },
 "nbformat": 4,
 "nbformat_minor": 5
}
